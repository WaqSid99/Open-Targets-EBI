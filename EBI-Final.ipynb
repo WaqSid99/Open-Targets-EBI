{
 "cells": [
  {
   "cell_type": "markdown",
   "id": "11cb9212",
   "metadata": {},
   "source": [
    "## Part1- Target-Disease pairs \n",
    "\n",
    "###  1) Using FTP download json files evidence, disease and target\n",
    "###  2) Extract needed columns: diseaseId, targetId, score and store in seprate table\n",
    "###  3) Run the main function which returns a table with target-disease pairs with median and 3maxs\n",
    "###  4) Join the resultant dataset with target and disease dataset on disease.id and target.id fields and add `target.approvedSymbol` and `disease.name` to the table\n",
    "###  5) Covert the table to json format and return "
   ]
  },
  {
   "cell_type": "markdown",
   "id": "24660abe",
   "metadata": {},
   "source": [
    "###   "
   ]
  },
  {
   "cell_type": "code",
   "execution_count": 1,
   "id": "dc1afb6a",
   "metadata": {},
   "outputs": [],
   "source": [
    "from ftplib import FTP\n",
    "import pandas as pd"
   ]
  },
  {
   "cell_type": "code",
   "execution_count": 2,
   "id": "6c9a038e",
   "metadata": {},
   "outputs": [],
   "source": [
    "import statistics\n",
    "import json\n",
    "import math"
   ]
  },
  {
   "cell_type": "markdown",
   "id": "1259ac05",
   "metadata": {},
   "source": [
    "### Step 1"
   ]
  },
  {
   "cell_type": "code",
   "execution_count": 4,
   "id": "4703dc5c",
   "metadata": {},
   "outputs": [],
   "source": [
    "def getFile(ftp, filename):\n",
    "    try:\n",
    "        ftp.retrbinary(\"RETR \" + filename ,open(filename, 'wb').write)\n",
    "    except:\n",
    "        print( \"Error\")\n"
   ]
  },
  {
   "cell_type": "code",
   "execution_count": null,
   "id": "8db623f3",
   "metadata": {
    "scrolled": false
   },
   "outputs": [],
   "source": [
    "ftp = FTP('ftp.ebi.ac.uk')   # connect to host, default port\n",
    "ftp.login()"
   ]
  },
  {
   "cell_type": "code",
   "execution_count": null,
   "id": "1433aecc",
   "metadata": {},
   "outputs": [],
   "source": [
    "# Json file from evidence=evs part0000\n",
    "# ftp.cwd(\"pub/databases/opentargets/platform/21.11/output/etl/json/evidence/sourceId=eva/\")\n",
    "# getFile(ftp,\"part-00000-4134a310-5042-4942-82ed-565f3d91eddd.c000.json\")\n"
   ]
  },
  {
   "cell_type": "code",
   "execution_count": null,
   "id": "e5e76de7",
   "metadata": {},
   "outputs": [],
   "source": [
    "# Disease file\n",
    "# ftp.cwd(\"pub/databases/opentargets/platform/21.11/output/etl/json/diseases/\")\n",
    "# getFile(ftp,\"part-00000-773deead-54e9-4934-b648-b26a4bbed763-c000.json\")"
   ]
  },
  {
   "cell_type": "code",
   "execution_count": null,
   "id": "b76774db",
   "metadata": {},
   "outputs": [],
   "source": [
    "#Target file\n",
    "# ftp.cwd(\"pub/databases/opentargets/platform/21.11/output/etl/json/targets/\")\n",
    "# getFile(ftp,\"part-00000-9befc20b-ce53-4029-bd62-39c5b631aa3f-c000.json\")"
   ]
  },
  {
   "cell_type": "code",
   "execution_count": 6,
   "id": "e2cba175",
   "metadata": {},
   "outputs": [],
   "source": [
    "#This is assuming that all files are in same directory as the current jupyter file \n",
    "df_evidence = pd.read_json('part-00000-4134a310-5042-4942-82ed-565f3d91eddd.c000.json',lines=True)\n",
    "df_diseases = pd.read_json('part-00000-773deead-54e9-4934-b648-b26a4bbed763-c000.json',lines=True)\n",
    "df_targets  = pd.read_json('part-00000-9befc20b-ce53-4029-bd62-39c5b631aa3f-c000.json',lines=True)"
   ]
  },
  {
   "cell_type": "markdown",
   "id": "560ab485",
   "metadata": {},
   "source": [
    "### Part 2"
   ]
  },
  {
   "cell_type": "code",
   "execution_count": 7,
   "id": "42dd0a31",
   "metadata": {},
   "outputs": [],
   "source": [
    "df_evidence=df_evidence[['targetId','diseaseId','score']]"
   ]
  },
  {
   "cell_type": "code",
   "execution_count": 8,
   "id": "1e5fc0e4",
   "metadata": {},
   "outputs": [
    {
     "data": {
      "text/html": [
       "<div>\n",
       "<style scoped>\n",
       "    .dataframe tbody tr th:only-of-type {\n",
       "        vertical-align: middle;\n",
       "    }\n",
       "\n",
       "    .dataframe tbody tr th {\n",
       "        vertical-align: top;\n",
       "    }\n",
       "\n",
       "    .dataframe thead th {\n",
       "        text-align: right;\n",
       "    }\n",
       "</style>\n",
       "<table border=\"1\" class=\"dataframe\">\n",
       "  <thead>\n",
       "    <tr style=\"text-align: right;\">\n",
       "      <th></th>\n",
       "      <th>targetId</th>\n",
       "      <th>diseaseId</th>\n",
       "      <th>score</th>\n",
       "    </tr>\n",
       "  </thead>\n",
       "  <tbody>\n",
       "    <tr>\n",
       "      <th>0</th>\n",
       "      <td>ENSG00000168646</td>\n",
       "      <td>Orphanet_300576</td>\n",
       "      <td>0.02</td>\n",
       "    </tr>\n",
       "    <tr>\n",
       "      <th>1</th>\n",
       "      <td>ENSG00000183873</td>\n",
       "      <td>Orphanet_130</td>\n",
       "      <td>0.32</td>\n",
       "    </tr>\n",
       "    <tr>\n",
       "      <th>2</th>\n",
       "      <td>ENSG00000101605</td>\n",
       "      <td>EFO_0000538</td>\n",
       "      <td>0.32</td>\n",
       "    </tr>\n",
       "    <tr>\n",
       "      <th>3</th>\n",
       "      <td>ENSG00000169247</td>\n",
       "      <td>EFO_0004143</td>\n",
       "      <td>0.02</td>\n",
       "    </tr>\n",
       "    <tr>\n",
       "      <th>4</th>\n",
       "      <td>ENSG00000096696</td>\n",
       "      <td>Orphanet_247</td>\n",
       "      <td>0.72</td>\n",
       "    </tr>\n",
       "    <tr>\n",
       "      <th>...</th>\n",
       "      <td>...</td>\n",
       "      <td>...</td>\n",
       "      <td>...</td>\n",
       "    </tr>\n",
       "    <tr>\n",
       "      <th>5574</th>\n",
       "      <td>ENSG00000095002</td>\n",
       "      <td>Orphanet_140162</td>\n",
       "      <td>0.02</td>\n",
       "    </tr>\n",
       "    <tr>\n",
       "      <th>5575</th>\n",
       "      <td>ENSG00000134571</td>\n",
       "      <td>HP_0001626</td>\n",
       "      <td>0.95</td>\n",
       "    </tr>\n",
       "    <tr>\n",
       "      <th>5576</th>\n",
       "      <td>ENSG00000166147</td>\n",
       "      <td>EFO_0009299</td>\n",
       "      <td>0.32</td>\n",
       "    </tr>\n",
       "    <tr>\n",
       "      <th>5577</th>\n",
       "      <td>ENSG00000141510</td>\n",
       "      <td>Orphanet_524</td>\n",
       "      <td>0.32</td>\n",
       "    </tr>\n",
       "    <tr>\n",
       "      <th>5578</th>\n",
       "      <td>ENSG00000275410</td>\n",
       "      <td>Orphanet_93111</td>\n",
       "      <td>0.95</td>\n",
       "    </tr>\n",
       "  </tbody>\n",
       "</table>\n",
       "<p>5579 rows × 3 columns</p>\n",
       "</div>"
      ],
      "text/plain": [
       "             targetId        diseaseId  score\n",
       "0     ENSG00000168646  Orphanet_300576   0.02\n",
       "1     ENSG00000183873     Orphanet_130   0.32\n",
       "2     ENSG00000101605      EFO_0000538   0.32\n",
       "3     ENSG00000169247      EFO_0004143   0.02\n",
       "4     ENSG00000096696     Orphanet_247   0.72\n",
       "...               ...              ...    ...\n",
       "5574  ENSG00000095002  Orphanet_140162   0.02\n",
       "5575  ENSG00000134571       HP_0001626   0.95\n",
       "5576  ENSG00000166147      EFO_0009299   0.32\n",
       "5577  ENSG00000141510     Orphanet_524   0.32\n",
       "5578  ENSG00000275410   Orphanet_93111   0.95\n",
       "\n",
       "[5579 rows x 3 columns]"
      ]
     },
     "execution_count": 8,
     "metadata": {},
     "output_type": "execute_result"
    }
   ],
   "source": [
    "df_evidence"
   ]
  },
  {
   "cell_type": "markdown",
   "id": "899fd97a",
   "metadata": {},
   "source": [
    "### Step 3"
   ]
  },
  {
   "cell_type": "code",
   "execution_count": 18,
   "id": "91ea68b0",
   "metadata": {},
   "outputs": [],
   "source": [
    "lis=[]\n",
    "\n",
    "def transform(dataset):\n",
    "    diseases = dataset['diseaseId'].unique()\n",
    "    \n",
    "    for d in diseases:\n",
    "        temp_df  = dataset[dataset['diseaseId']==d]\n",
    "        targets  = temp_df['targetId'].unique()\n",
    "        \n",
    "        for t in targets:\n",
    "            scores = sorted(temp_df[temp_df['targetId']==t][\"score\"],reverse=True)\n",
    "            median = round(statistics.median(scores),2)\n",
    "            if (len(scores)<3) :\n",
    "                if len(scores)==2: max3_ = [round(scores[0],2),round(scores[1],2),0]\n",
    "                else: max3_ = [round(scores[0],2),0,0]\n",
    "            else: max3_ = [round(scores[0],2),round(scores[1],2),round(scores[2],2)]\n",
    "            dic_ = {'disease':d,'target':t, 'median':median, 'top3':max3_}\n",
    "            lis.append(dic_)\n",
    "        \n",
    "    \n",
    "#     return lis\n",
    "\n",
    "transform(df_evidence)"
   ]
  },
  {
   "cell_type": "code",
   "execution_count": 10,
   "id": "e2150e93",
   "metadata": {},
   "outputs": [],
   "source": [
    "# main_df=pd.json_normalize(lis).sort_values('median',ascending=False)\n",
    "main_df=pd.json_normalize(lis).sort_values('median',ascending=False)\n",
    "\n",
    "#To show all rows\n",
    "# with pd.option_context('display.max_rows', None, 'display.max_columns', None):\n",
    "#     display(main_df)"
   ]
  },
  {
   "cell_type": "code",
   "execution_count": 11,
   "id": "c148e339",
   "metadata": {},
   "outputs": [
    {
     "data": {
      "text/html": [
       "<div>\n",
       "<style scoped>\n",
       "    .dataframe tbody tr th:only-of-type {\n",
       "        vertical-align: middle;\n",
       "    }\n",
       "\n",
       "    .dataframe tbody tr th {\n",
       "        vertical-align: top;\n",
       "    }\n",
       "\n",
       "    .dataframe thead th {\n",
       "        text-align: right;\n",
       "    }\n",
       "</style>\n",
       "<table border=\"1\" class=\"dataframe\">\n",
       "  <thead>\n",
       "    <tr style=\"text-align: right;\">\n",
       "      <th></th>\n",
       "      <th>disease</th>\n",
       "      <th>target</th>\n",
       "      <th>median</th>\n",
       "      <th>top3</th>\n",
       "    </tr>\n",
       "  </thead>\n",
       "  <tbody>\n",
       "    <tr>\n",
       "      <th>1445</th>\n",
       "      <td>Orphanet_97120</td>\n",
       "      <td>ENSG00000154864</td>\n",
       "      <td>0.95</td>\n",
       "      <td>[0.95, 0, 0]</td>\n",
       "    </tr>\n",
       "    <tr>\n",
       "      <th>52</th>\n",
       "      <td>Orphanet_79189</td>\n",
       "      <td>ENSG00000124587</td>\n",
       "      <td>0.95</td>\n",
       "      <td>[0.95, 0, 0]</td>\n",
       "    </tr>\n",
       "    <tr>\n",
       "      <th>2117</th>\n",
       "      <td>EFO_0007409</td>\n",
       "      <td>ENSG00000036473</td>\n",
       "      <td>0.95</td>\n",
       "      <td>[0.95, 0, 0]</td>\n",
       "    </tr>\n",
       "    <tr>\n",
       "      <th>1374</th>\n",
       "      <td>Orphanet_132</td>\n",
       "      <td>ENSG00000114200</td>\n",
       "      <td>0.95</td>\n",
       "      <td>[0.95, 0, 0]</td>\n",
       "    </tr>\n",
       "    <tr>\n",
       "      <th>1562</th>\n",
       "      <td>Orphanet_845</td>\n",
       "      <td>ENSG00000213614</td>\n",
       "      <td>0.95</td>\n",
       "      <td>[0.95, 0, 0]</td>\n",
       "    </tr>\n",
       "    <tr>\n",
       "      <th>...</th>\n",
       "      <td>...</td>\n",
       "      <td>...</td>\n",
       "      <td>...</td>\n",
       "      <td>...</td>\n",
       "    </tr>\n",
       "    <tr>\n",
       "      <th>2200</th>\n",
       "      <td>Orphanet_418</td>\n",
       "      <td>ENSG00000231852</td>\n",
       "      <td>0.00</td>\n",
       "      <td>[0.0, 0, 0]</td>\n",
       "    </tr>\n",
       "    <tr>\n",
       "      <th>965</th>\n",
       "      <td>Orphanet_1572</td>\n",
       "      <td>ENSG00000240505</td>\n",
       "      <td>0.00</td>\n",
       "      <td>[0.0, 0, 0]</td>\n",
       "    </tr>\n",
       "    <tr>\n",
       "      <th>1600</th>\n",
       "      <td>HP_0002269</td>\n",
       "      <td>ENSG00000196924</td>\n",
       "      <td>0.00</td>\n",
       "      <td>[0.0, 0, 0]</td>\n",
       "    </tr>\n",
       "    <tr>\n",
       "      <th>1680</th>\n",
       "      <td>Orphanet_912</td>\n",
       "      <td>ENSG00000124587</td>\n",
       "      <td>0.00</td>\n",
       "      <td>[0.0, 0, 0]</td>\n",
       "    </tr>\n",
       "    <tr>\n",
       "      <th>1974</th>\n",
       "      <td>Orphanet_213517</td>\n",
       "      <td>ENSG00000083093</td>\n",
       "      <td>0.00</td>\n",
       "      <td>[0.0, 0, 0]</td>\n",
       "    </tr>\n",
       "  </tbody>\n",
       "</table>\n",
       "<p>2321 rows × 4 columns</p>\n",
       "</div>"
      ],
      "text/plain": [
       "              disease           target  median          top3\n",
       "1445   Orphanet_97120  ENSG00000154864    0.95  [0.95, 0, 0]\n",
       "52     Orphanet_79189  ENSG00000124587    0.95  [0.95, 0, 0]\n",
       "2117      EFO_0007409  ENSG00000036473    0.95  [0.95, 0, 0]\n",
       "1374     Orphanet_132  ENSG00000114200    0.95  [0.95, 0, 0]\n",
       "1562     Orphanet_845  ENSG00000213614    0.95  [0.95, 0, 0]\n",
       "...               ...              ...     ...           ...\n",
       "2200     Orphanet_418  ENSG00000231852    0.00   [0.0, 0, 0]\n",
       "965     Orphanet_1572  ENSG00000240505    0.00   [0.0, 0, 0]\n",
       "1600       HP_0002269  ENSG00000196924    0.00   [0.0, 0, 0]\n",
       "1680     Orphanet_912  ENSG00000124587    0.00   [0.0, 0, 0]\n",
       "1974  Orphanet_213517  ENSG00000083093    0.00   [0.0, 0, 0]\n",
       "\n",
       "[2321 rows x 4 columns]"
      ]
     },
     "execution_count": 11,
     "metadata": {},
     "output_type": "execute_result"
    }
   ],
   "source": [
    "main_df"
   ]
  },
  {
   "cell_type": "markdown",
   "id": "e75966f8",
   "metadata": {},
   "source": [
    "### Step 4"
   ]
  },
  {
   "cell_type": "markdown",
   "id": "5a1ce6ee",
   "metadata": {},
   "source": [
    "### Step 5"
   ]
  },
  {
   "cell_type": "code",
   "execution_count": null,
   "id": "7da64732",
   "metadata": {},
   "outputs": [],
   "source": [
    "main_df.to_json('./export1.json',orient='records')\n"
   ]
  },
  {
   "cell_type": "markdown",
   "id": "1b5373c8",
   "metadata": {},
   "source": [
    "## Part2- Target-Target pairs \n"
   ]
  },
  {
   "cell_type": "code",
   "execution_count": 12,
   "id": "56d36c2e",
   "metadata": {},
   "outputs": [
    {
     "data": {
      "text/html": [
       "<div>\n",
       "<style scoped>\n",
       "    .dataframe tbody tr th:only-of-type {\n",
       "        vertical-align: middle;\n",
       "    }\n",
       "\n",
       "    .dataframe tbody tr th {\n",
       "        vertical-align: top;\n",
       "    }\n",
       "\n",
       "    .dataframe thead th {\n",
       "        text-align: right;\n",
       "    }\n",
       "</style>\n",
       "<table border=\"1\" class=\"dataframe\">\n",
       "  <thead>\n",
       "    <tr style=\"text-align: right;\">\n",
       "      <th></th>\n",
       "      <th>disease</th>\n",
       "      <th>target</th>\n",
       "      <th>median</th>\n",
       "      <th>top3</th>\n",
       "    </tr>\n",
       "  </thead>\n",
       "  <tbody>\n",
       "    <tr>\n",
       "      <th>2227</th>\n",
       "      <td>EFO_0000095</td>\n",
       "      <td>ENSG00000141510</td>\n",
       "      <td>0.70</td>\n",
       "      <td>[0.7, 0, 0]</td>\n",
       "    </tr>\n",
       "    <tr>\n",
       "      <th>885</th>\n",
       "      <td>EFO_0000181</td>\n",
       "      <td>ENSG00000141510</td>\n",
       "      <td>0.70</td>\n",
       "      <td>[0.7, 0, 0]</td>\n",
       "    </tr>\n",
       "    <tr>\n",
       "      <th>2013</th>\n",
       "      <td>EFO_0000222</td>\n",
       "      <td>ENSG00000245848</td>\n",
       "      <td>0.32</td>\n",
       "      <td>[0.32, 0, 0]</td>\n",
       "    </tr>\n",
       "    <tr>\n",
       "      <th>2072</th>\n",
       "      <td>EFO_0000239</td>\n",
       "      <td>ENSG00000204370</td>\n",
       "      <td>0.02</td>\n",
       "      <td>[0.02, 0, 0]</td>\n",
       "    </tr>\n",
       "    <tr>\n",
       "      <th>2071</th>\n",
       "      <td>EFO_0000239</td>\n",
       "      <td>ENSG00000117118</td>\n",
       "      <td>0.32</td>\n",
       "      <td>[0.32, 0, 0]</td>\n",
       "    </tr>\n",
       "    <tr>\n",
       "      <th>...</th>\n",
       "      <td>...</td>\n",
       "      <td>...</td>\n",
       "      <td>...</td>\n",
       "      <td>...</td>\n",
       "    </tr>\n",
       "    <tr>\n",
       "      <th>1177</th>\n",
       "      <td>Orphanet_99948</td>\n",
       "      <td>ENSG00000104381</td>\n",
       "      <td>0.02</td>\n",
       "      <td>[0.02, 0, 0]</td>\n",
       "    </tr>\n",
       "    <tr>\n",
       "      <th>711</th>\n",
       "      <td>Orphanet_99949</td>\n",
       "      <td>ENSG00000169247</td>\n",
       "      <td>0.32</td>\n",
       "      <td>[0.32, 0.32, 0.02]</td>\n",
       "    </tr>\n",
       "    <tr>\n",
       "      <th>786</th>\n",
       "      <td>Orphanet_99951</td>\n",
       "      <td>ENSG00000158887</td>\n",
       "      <td>0.32</td>\n",
       "      <td>[0.32, 0, 0]</td>\n",
       "    </tr>\n",
       "    <tr>\n",
       "      <th>1753</th>\n",
       "      <td>Orphanet_99956</td>\n",
       "      <td>ENSG00000133812</td>\n",
       "      <td>0.02</td>\n",
       "      <td>[0.02, 0, 0]</td>\n",
       "    </tr>\n",
       "    <tr>\n",
       "      <th>1721</th>\n",
       "      <td>Orphanet_99961</td>\n",
       "      <td>ENSG00000073734</td>\n",
       "      <td>0.32</td>\n",
       "      <td>[0.32, 0, 0]</td>\n",
       "    </tr>\n",
       "  </tbody>\n",
       "</table>\n",
       "<p>2321 rows × 4 columns</p>\n",
       "</div>"
      ],
      "text/plain": [
       "             disease           target  median                top3\n",
       "2227     EFO_0000095  ENSG00000141510    0.70         [0.7, 0, 0]\n",
       "885      EFO_0000181  ENSG00000141510    0.70         [0.7, 0, 0]\n",
       "2013     EFO_0000222  ENSG00000245848    0.32        [0.32, 0, 0]\n",
       "2072     EFO_0000239  ENSG00000204370    0.02        [0.02, 0, 0]\n",
       "2071     EFO_0000239  ENSG00000117118    0.32        [0.32, 0, 0]\n",
       "...              ...              ...     ...                 ...\n",
       "1177  Orphanet_99948  ENSG00000104381    0.02        [0.02, 0, 0]\n",
       "711   Orphanet_99949  ENSG00000169247    0.32  [0.32, 0.32, 0.02]\n",
       "786   Orphanet_99951  ENSG00000158887    0.32        [0.32, 0, 0]\n",
       "1753  Orphanet_99956  ENSG00000133812    0.02        [0.02, 0, 0]\n",
       "1721  Orphanet_99961  ENSG00000073734    0.32        [0.32, 0, 0]\n",
       "\n",
       "[2321 rows x 4 columns]"
      ]
     },
     "execution_count": 12,
     "metadata": {},
     "output_type": "execute_result"
    }
   ],
   "source": [
    "main_df.sort_values('disease')"
   ]
  },
  {
   "cell_type": "code",
   "execution_count": 13,
   "id": "cb2d8a03",
   "metadata": {},
   "outputs": [],
   "source": [
    "def targetPairs(main_df):\n",
    "    \n",
    "    main_df=main_df.sort_values('disease')\n",
    "    disease=main_df['disease'].to_list()\n",
    "    \n",
    "    disease_start = \"\"  #To keep track of disease where loop starts at\n",
    "    start_index = 0     #Index of las visited disease\n",
    "    count = 0           #Count to track how many consecutive diseases \n",
    "    track = []          #List to keep track of num of consecutive diseases\n",
    "    \n",
    "    for d in range (len(disease)):\n",
    "        if d == 0:\n",
    "            disease_start = disease[d]\n",
    "            start_index = d\n",
    "        elif disease[d] !=disease_start:\n",
    "            if count != 0:\n",
    "                track.append(count+1)\n",
    "            disease_start = disease[d]\n",
    "            start_index = d\n",
    "            count = 0\n",
    "        else:\n",
    "            count += 1\n",
    "            start_index = d\n",
    "    \n",
    "    total_pairs=0\n",
    "    for t in track:\n",
    "        if t==2:\n",
    "            total_pairs+=1\n",
    "        else:\n",
    "            num=math.factorial(t)/(2*math.factorial(t-2))\n",
    "            total_pairs+=num \n",
    "    \n",
    "    return total_pairs\n",
    "    \n",
    "    "
   ]
  },
  {
   "cell_type": "code",
   "execution_count": 14,
   "id": "3ad16e03",
   "metadata": {},
   "outputs": [
    {
     "name": "stdout",
     "output_type": "stream",
     "text": [
      "Num of target-target pairs which share a connection to at least two diseases are: \n",
      "6549\n"
     ]
    }
   ],
   "source": [
    "print(\"Num of target-target pairs which share a connection to at least two diseases are: \")\n",
    "print(int(targetPairs(main_df)))"
   ]
  }
 ],
 "metadata": {
  "kernelspec": {
   "display_name": "Python 3",
   "language": "python",
   "name": "python3"
  },
  "language_info": {
   "codemirror_mode": {
    "name": "ipython",
    "version": 3
   },
   "file_extension": ".py",
   "mimetype": "text/x-python",
   "name": "python",
   "nbconvert_exporter": "python",
   "pygments_lexer": "ipython3",
   "version": "3.8.8"
  }
 },
 "nbformat": 4,
 "nbformat_minor": 5
}
